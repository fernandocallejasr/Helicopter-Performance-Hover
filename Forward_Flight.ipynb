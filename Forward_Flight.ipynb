{
 "cells": [
  {
   "cell_type": "markdown",
   "metadata": {},
   "source": [
    "## Forward Flight Performance"
   ]
  },
  {
   "cell_type": "code",
   "execution_count": 1,
   "metadata": {},
   "outputs": [],
   "source": [
    "import numpy as np\n",
    "from matplotlib import pyplot as plt\n",
    "import pandas as pd\n",
    "import seaborn as sns\n",
    "sns.set()"
   ]
  },
  {
   "cell_type": "code",
   "execution_count": 12,
   "metadata": {},
   "outputs": [],
   "source": [
    "class Forward():\n",
    "    \"\"\"Clase que permite calcular los distintos tipos de potencia de un helicoptero\n",
    "       en vuelo hacia adelante (vuelo nivelado), además calcula la potencia total\n",
    "       Inputs:\n",
    "           Voo (vector float): Las velocidades de vuelo hacia adelante\n",
    "           hdens (float): La altitud densidad a la que deseamos hacer el cálculo\n",
    "    \"\"\"\n",
    "    \n",
    "    def __init__(self, Voo, hdens, H_Data):\n",
    "        self.H_Data = H_Data\n",
    "        self.f      = H_Data['f']       # [m^2]\n",
    "        self.W      = H_Data['W']       # [N]\n",
    "        self.R      = H_Data['R']       # [m]\n",
    "        self.k      = H_Data['k']\n",
    "        self.cuerda = H_Data['cuerda']  # [m]\n",
    "        self.Cdo    = H_Data['Cdo']\n",
    "        self.Nb     = H_Data['Nb']\n",
    "        self.Omega  = H_Data['Omega']\n",
    "        self.K      = H_Data['K']\n",
    "        \n",
    "        self.A      = np.pi*self.R**2        # [m^2]\n",
    "        \n",
    "        self.Voo    = Voo\n",
    "        self.hdens  = hdens\n",
    "        self.alpha  = [0 for V in Voo]\n",
    "        self.thrust = [0 for V in Voo]\n",
    "        self.vi     = [0 for V in Voo]\n",
    "        self.kPi    = [0 for V in Voo]\n",
    "        self.Po     = [0 for V in Voo]\n",
    "        self.Pp     = [0 for V in Voo]\n",
    "        self.Ptr    = [0 for V in Voo]\n",
    "        self.Ptotal = [0 for V in Voo]\n",
    "        self.efic   = [0 for V in Voo]\n",
    "        self.dens   = 1.225*(1-self.hdens*(0.00357/518.4))**(1/0.235)\n",
    "        self.dens_ratio = self.dens/1.225\n",
    "        self.DF = pd.DataFrame({'Voo': self.Voo, 'alpha': self.alpha, 'T': self.thrust, 'Vi': self.vi, 'P Total': self.Ptotal, 'kPi': self.kPi, 'Po': self.Po, 'Pp': self.Pp, 'Ptr':self.Ptr})\n",
    "        self.P_d_ssl = 300\n",
    "        self.Wf     = 610   # lb\n",
    "        self.SFC    = 0.77  # lb/hr*hp   \n",
    "        self.rango  = [0 for V in Voo]\n",
    "        self.tiempo = [0 for V in Voo]\n",
    "        self.list_Vc = [0 for V in Voo]\n",
    "\n",
    "        \n",
    "    def alpha_func(self):\n",
    "        \"\"\"Método para calcular el ángulo de ataque para cada Voo, los almacena en self.alpha\n",
    "        \"\"\"\n",
    "        i = 0\n",
    "        for vel in self.Voo:\n",
    "            alpha = np.arctan(0.5*self.dens*self.f*vel**2/(self.W))\n",
    "            self.alpha[i] = round(alpha*360/(2*np.pi),3)\n",
    "            i += 1\n",
    "            \n",
    "    def thrust_func(self):\n",
    "        \"\"\"Método para calcular el empuje para cada Voo, loa almacena en self.thrust\n",
    "        \"\"\"\n",
    "        i = 0\n",
    "        for attack in self.alpha:\n",
    "            t = self.W/(np.cos(attack*2*np.pi/360)) #modificar W*cos\n",
    "            self.thrust[i] = round(t,3)\n",
    "            i += 1\n",
    "    \n",
    "    def vi_func(self):\n",
    "        \"\"\"Método para obtener Vi para cada Voo, la almacena en self.vi\n",
    "           Primero calcula cada parte del polinomio de Vi para cada Voo y calcula las\n",
    "           raíces para el mismo\n",
    "        \"\"\"\n",
    "        a = []\n",
    "        b = []\n",
    "        c = []\n",
    "        \n",
    "        i = 0\n",
    "        for v in self.Voo:\n",
    "            a_i = 2*v*np.sin(self.alpha[i]*np.pi/180)\n",
    "            a.append(a_i)\n",
    "            b.append(v**2)\n",
    "            t_i = self.thrust[i]**2/(4*(self.dens**2)*(self.A**2))\n",
    "            c.append(t_i)\n",
    "            i += 1\n",
    "            \n",
    "        i = 0\n",
    "        for v in range(0,len(self.Voo)):\n",
    "            p = np.poly1d([1,a[i],b[i],0,-c[i]])\n",
    "            roots = p.r\n",
    "            self.vi[i] = round(roots[3].real,3)\n",
    "            i += 1\n",
    "            \n",
    "    def kPi_func(self):\n",
    "        \"\"\"Método que calcula Pi para cada Voo, la almacena en self.kPi\n",
    "        \"\"\"\n",
    "        i = 0\n",
    "        for t in self.thrust:\n",
    "            k_i = self.k*t*(self.vi[i]+self.Voo[i]*np.sin(self.alpha[i]*np.pi/180))/745.7\n",
    "            self.kPi[i] = round(k_i, 3)\n",
    "            i += 1\n",
    "    \n",
    "    def Po_func(self):\n",
    "        \"\"\"Método para calcular Po para cada Voo, la almacena en self.Po\n",
    "        \"\"\"\n",
    "        i = 0\n",
    "        for v in self.Voo:\n",
    "            Po_i = (1/745.7)*(1/8)*self.dens*self.cuerda*self.Cdo*self.Nb*(self.Omega**3)*(self.R**4)*(1+(self.K*(v**2)/((self.Omega**2)*(self.R**2))))\n",
    "            self.Po[i] = round(Po_i,3)\n",
    "            i += 1\n",
    "                                                               \n",
    "    def Pp_func(self):\n",
    "        \"\"\"Método para calcular Pp para cada Voo, la almacena en self.Pp\n",
    "        \"\"\"\n",
    "        i = 0\n",
    "        for v in self.Voo:\n",
    "            Pp_i = 0.5*self.dens*(v**3)*self.f/745.7\n",
    "            self.Pp[i] = round(Pp_i,3)\n",
    "            i += 1\n",
    "       \n",
    "    def Ptr_func(self):\n",
    "        \"\"\"Método para calcular Ptr para cada Voo, la almacena en self.Ptr\n",
    "        \"\"\"\n",
    "        i = 0\n",
    "        for kPi in self.kPi:\n",
    "            Ptr_i = (kPi + self.Po[i])*0.05\n",
    "            self.Ptr[i] = round(Ptr_i,3)\n",
    "            i += 1\n",
    "            \n",
    "    def Ptotal_func(self):\n",
    "        \"\"\"Método para calcular Ptotal para cada Voo, la almacena en self.Ptotal\n",
    "        \"\"\"\n",
    "        i = 0\n",
    "        for v in self.Voo:\n",
    "            Ptotal_i = self.kPi[i] + self.Po[i] + self.Pp[i] + self.Ptr[i]\n",
    "            self.Ptotal[i] = round(Ptotal_i, 3)\n",
    "            i += 1\n",
    "            \n",
    "    def calc_Vc(self):\n",
    "        \"\"\"Método que calcula la Vc para cada Voo, a un hdens dada\n",
    "        \"\"\"\n",
    "        i = 0\n",
    "        for v in self.Voo:\n",
    "            Vc_i = (self.dens_ratio*self.P_d_ssl*(745.7) - self.Ptotal[i]*745.7)/self.thrust[i]\n",
    "            self.list_Vc[i] = Vc_i\n",
    "            i += 1\n",
    "            \n",
    "    def calc_P(self):\n",
    "        \"\"\"Método que inicializa todos los valores de potencia y los calcula\n",
    "        \"\"\"\n",
    "        self.__init__(self.Voo, self.hdens, self.H_Data)\n",
    "        \n",
    "        self.alpha_func()\n",
    "        self.thrust_func()\n",
    "        self.vi_func()\n",
    "        self.kPi_func()\n",
    "        self.Po_func()\n",
    "        self.Pp_func()\n",
    "        self.Ptr_func()\n",
    "        self.Ptotal_func()\n",
    "        self.calc_Vc()\n",
    "        \n",
    "    def calc_techo(self, alt_inicial):\n",
    "        \"\"\"Método que varía la altitud densidad hasta encontrar el techo de servicio\n",
    "           Inputs:\n",
    "               alt_inicial (float): Altitud para comenzar a iterar \n",
    "           Outputs:\n",
    "               Techo de servicio\n",
    "        \"\"\"\n",
    "        Error = 10\n",
    "        alt_dens = alt_inicial\n",
    "        self.hdens = alt_dens\n",
    "        \n",
    "        while Error > 0.01:\n",
    "            self.hdens = alt_dens\n",
    "            self.calc_P()\n",
    "            P_min = min(self.Ptotal)\n",
    "            P_disp = self.dens_ratio*self.P_d_ssl\n",
    "            Error = abs(P_disp - P_min)\n",
    "            alt_dens += 0.1\n",
    "        \n",
    "        return f'Techo de servicio: {alt_dens} ft'\n",
    "          \n",
    "    def calc_techo_hover(self, alt_inicial):\n",
    "        \"\"\"Método que varía la altitud densidad hasta encontrar el techo de servicio en hover\n",
    "           Inputs:\n",
    "               alt_inicial (float): Altitud para comenzar a iterar \n",
    "           Outputs:\n",
    "               Techo de servicio en hover\n",
    "        \"\"\"\n",
    "        Error = 10\n",
    "        alt_dens = alt_inicial\n",
    "        self.hdens = alt_dens\n",
    "        \n",
    "        while Error > 0.01:\n",
    "            self.hdens = alt_dens\n",
    "            self.calc_P()\n",
    "            P_h = self.Ptotal[0]\n",
    "            P_disp = self.dens_ratio*self.P_d_ssl\n",
    "            Error = abs(P_disp - P_h)\n",
    "            alt_dens += 0.1\n",
    "        \n",
    "        return f'Techo de servicio en Hover: {alt_dens} ft'\n",
    "        \n",
    "    def efic_func(self):\n",
    "        \"\"\"Método para calcular L/D para cada Voo, la almacena en self.efic\n",
    "        \"\"\"\n",
    "        self.calc_P()\n",
    "        \n",
    "        i = 0\n",
    "        for V in self.Voo:\n",
    "            efic_i = (self.W*self.Voo[i])/(self.kPi[i] +self.Po[i] +self.Pp[i])\n",
    "            self.efic[i] = round(efic_i,3)\n",
    "            i += 1\n",
    "            \n",
    "    def tiempo_func(self):\n",
    "        \"\"\"Método para calcular el tiempo de vuelo con una cantidad dada de combustible\n",
    "           en vuelo nivelado, para distintas velocidades.\n",
    "        \"\"\"\n",
    "        self.calc_P()\n",
    "        \n",
    "        i = 0\n",
    "        for v in self.Voo:\n",
    "            t_i = self.Wf/(self.SFC*self.Ptotal[i])\n",
    "            self.tiempo[i] = (round(t_i,3))\n",
    "            i += 1\n",
    "            \n",
    "    def rango_func(self):\n",
    "        \"\"\"Método para calcular el rango de vuelo con una cantidad de combustible,\n",
    "           en vuelo nivelado, para distintas velocidades\n",
    "        \"\"\"\n",
    "        self.calc_P()\n",
    "        \n",
    "        i = 0\n",
    "        for v in self.Voo:\n",
    "            r_i = v*self.Wf*3.600/(self.SFC*self.Ptotal[i])\n",
    "            self.rango[i] = (round(r_i,3))\n",
    "            i += 1\n",
    "            \n",
    "    def graf_P(self):\n",
    "        \"\"\"Método que calcula y grafica todos los tipos de potencia en una sóla figura\n",
    "        \"\"\"\n",
    "        self.calc_P()\n",
    "        \n",
    "        plt.plot(self.Voo, self.Ptotal, label='P Total')\n",
    "        plt.plot(self.Voo, self.kPi, label = 'Kpi')\n",
    "        plt.plot(self.Voo, self.Po, label='Po')\n",
    "        plt.plot(self.Voo, self.Pp, label='Pp')\n",
    "        plt.plot(self.Voo, self.Ptr, label='Ptr')\n",
    "\n",
    "        plt.xlabel('Velocidad de avance [m/s]')\n",
    "        plt.ylabel('Potencia [hp]')\n",
    "        plt.title('Potencia vs Voo')\n",
    "\n",
    "        plt.legend()\n",
    "        leg = plt.legend(loc = 2, ncol = 2, prop = {'size': 11})\n",
    "        \n",
    "    def graf_P_total(self):\n",
    "        \"\"\"Método que calcula y grafica todos los tipos de potencia en una sóla figura\n",
    "        \"\"\"\n",
    "        self.calc_P()\n",
    "        \n",
    "        plt.plot(self.Voo, self.Ptotal, label = f\"hdens = {self.hdens}'\")\n",
    "\n",
    "        plt.xlabel('Velocidad de avance [m/s]')\n",
    "        plt.ylabel('Potencia [hp]')\n",
    "        plt.title('Potencia Total vs Voo')\n",
    "\n",
    "        plt.legend()\n",
    "        #leg = plt.legend(loc = 2, ncol = 2, prop = {'size': 11})\n",
    "        \n",
    "    def graf_efic(self):\n",
    "        \"\"\"Método que calcula y grafica gráfica la eficiencia a distintas Voo\n",
    "        \"\"\"\n",
    "        self.efic_func()\n",
    "        \n",
    "        plt.plot(self.Voo, self.efic, label = f\"hd = {self.hdens}''\")\n",
    "        \n",
    "        plt.xlabel('Velocidad de avance [m/s]')\n",
    "        plt.ylabel('L/D')\n",
    "        plt.title('Eficiencia vs Voo')\n",
    "        \n",
    "        plt.legend()\n",
    "        leg = plt.legend(loc = 4, ncol = 2, prop = {'size':11})\n",
    "        \n",
    "    def graf_r_t(self):\n",
    "        \"\"\"Método que calcula y grafica rango y endurance para un peso de combustible\n",
    "           en vuelo nivelado, para distintas velocidades\n",
    "        \"\"\"\n",
    "        self.rango_func()\n",
    "        rango = self.rango\n",
    "        self.tiempo_func()\n",
    "        self.rango = rango\n",
    "        \n",
    "        plt.figure(num=2, figsize=[10,15], dpi=100)\n",
    "        fig, (ax1, ax2) = plt.subplots(nrows = 2, sharex = True)\n",
    "\n",
    "        ax1.plot(self.Voo, self.rango, label = f'hdens = {self.hdens}')\n",
    "\n",
    "        ax2.plot(self.Voo, self.tiempo, label = f'hdens = {self.hdens}')\n",
    "\n",
    "\n",
    "        #ax1.set_xlabel('Velocidad de avance [m/s]')\n",
    "        ax1.set_ylabel('Rango [km]')\n",
    "        ax1.set_title('Performance Bell 206')\n",
    "\n",
    "\n",
    "        ax2.set_xlabel('Velocidad de avance [m/s]')\n",
    "        ax2.set_ylabel('Tiempo [hr]')\n",
    "        ax2.set_title('Endurance')\n",
    "\n",
    "        plt.show()\n",
    "        \n",
    "    def data_frame(self):\n",
    "        \"\"\"Método que muestra un Data Frame de potencias\n",
    "           Inputs:\n",
    "               None\n",
    "           Outputs:\n",
    "               self.PD (Data Frame)\n",
    "        \"\"\"\n",
    "        self.calc_P()\n",
    "        \n",
    "        self.DF = pd.DataFrame({'Voo': self.Voo, 'alpha': self.alpha, 'T': self.thrust, 'Vi': self.vi, 'P Total': self.Ptotal, 'Vc [m/s]': self.list_Vc, 'kPi': self.kPi, 'Po': self.Po, 'Pp': self.Pp, 'Ptr': self.Ptr})\n",
    "        \n",
    "        return self.DF"
   ]
  },
  {
   "cell_type": "markdown",
   "metadata": {},
   "source": [
    "### Gráfica de todas las potencias a una hdens"
   ]
  },
  {
   "cell_type": "code",
   "execution_count": 13,
   "metadata": {},
   "outputs": [
    {
     "data": {
      "image/png": "[encoded data removed]",
      "text/plain": [
       "<Figure size 432x288 with 1 Axes>"
      ]
     },
     "metadata": {
      "needs_background": "light"
     },
     "output_type": "display_data"
    }
   ],
   "source": [
    "Heli_Ab = {'f': 0.83, \n",
    "           'W': 9.81*1451-610,\n",
    "           'R': 5.08,\n",
    "           'k': 1.15,\n",
    "           'cuerda': 0.33,\n",
    "           'Cdo': 0.01,\n",
    "           'Nb': 2,\n",
    "           'Omega': 41.5,\n",
    "           'K': 4}\n",
    "\n",
    "Voo = [V for V in range(0,61,1)]\n",
    "\n",
    "HELI_1 = Forward(Voo, 0, Heli_Ab)\n",
    "\n",
    "HELI_1.graf_P()"
   ]
  },
  {
   "cell_type": "markdown",
   "metadata": {},
   "source": [
    "### Eficiencia a distintas altitud densidad"
   ]
  },
  {
   "cell_type": "code",
   "execution_count": 14,
   "metadata": {},
   "outputs": [
    {
     "data": {
      "image/png": "[encoded data removed]",
      "text/plain": [
       "<Figure size 432x288 with 1 Axes>"
      ]
     },
     "metadata": {
      "needs_background": "light"
     },
     "output_type": "display_data"
    }
   ],
   "source": [
    "ef_0 = Forward(Voo,0, Heli_Ab)\n",
    "ef_500 = Forward(Voo,500, Heli_Ab)\n",
    "ef_1000 = Forward(Voo,1000, Heli_Ab)\n",
    "ef_2000 = Forward(Voo,2000, Heli_Ab)\n",
    "ef_5000 = Forward(Voo,5000, Heli_Ab)\n",
    "\n",
    "ef_0.graf_efic()\n",
    "ef_500.graf_efic()\n",
    "ef_1000.graf_efic()\n",
    "ef_2000.graf_efic()\n",
    "ef_5000.graf_efic()\n",
    "\n",
    "#plt.savefig('Eficiencia vs Voo a hdens.pdf')"
   ]
  },
  {
   "cell_type": "markdown",
   "metadata": {},
   "source": [
    "## Gráfica Ptotal a diferentes altitud densidad"
   ]
  },
  {
   "cell_type": "markdown",
   "metadata": {},
   "source": [
    "Creamos los objetos"
   ]
  },
  {
   "cell_type": "code",
   "execution_count": 16,
   "metadata": {},
   "outputs": [
    {
     "data": {
      "image/png": "[encoded data removed]",
      "text/plain": [
       "<Figure size 432x288 with 1 Axes>"
      ]
     },
     "metadata": {
      "needs_background": "light"
     },
     "output_type": "display_data"
    }
   ],
   "source": [
    "hp_0 = Forward(Voo,0, Heli_Ab)\n",
    "hp_1000 = Forward(Voo, 1000, Heli_Ab)\n",
    "hp_3000 = Forward(Voo, 3000, Heli_Ab)\n",
    "hp_6000 = Forward(Voo, 6000, Heli_Ab)\n",
    "hp_9000 = Forward(Voo, 9000, Heli_Ab)\n",
    "\n",
    "hp_0.graf_P_total()\n",
    "hp_1000.graf_P_total()\n",
    "hp_3000.graf_P_total()\n",
    "hp_6000.graf_P_total()\n",
    "hp_9000.graf_P_total()"
   ]
  },
  {
   "cell_type": "markdown",
   "metadata": {},
   "source": [
    "## Endurance y Rango"
   ]
  },
  {
   "cell_type": "markdown",
   "metadata": {},
   "source": [
    "#### Calculamos y graficamos Rango y Endurance con los métodos del objeto de la clase Vel_avance"
   ]
  },
  {
   "cell_type": "code",
   "execution_count": 17,
   "metadata": {
    "scrolled": false
   },
   "outputs": [
    {
     "data": {
      "text/plain": [
       "<Figure size 1000x1500 with 0 Axes>"
      ]
     },
     "metadata": {},
     "output_type": "display_data"
    },
    {
     "data": {
      "image/png": "[encoded data removed]",
      "text/plain": [
       "<Figure size 432x288 with 2 Axes>"
      ]
     },
     "metadata": {
      "needs_background": "light"
     },
     "output_type": "display_data"
    }
   ],
   "source": [
    "Heli_R_0 = Forward(Voo, 0, Heli_Ab)\n",
    "Heli_R_0.graf_r_t()"
   ]
  },
  {
   "cell_type": "code",
   "execution_count": 18,
   "metadata": {},
   "outputs": [
    {
     "data": {
      "text/plain": [
       "546.635"
      ]
     },
     "execution_count": 18,
     "metadata": {},
     "output_type": "execute_result"
    }
   ],
   "source": [
    "max(Heli_R_0.rango)"
   ]
  },
  {
   "cell_type": "markdown",
   "metadata": {},
   "source": [
    "## Techo de servicio vuelo hacia adelante"
   ]
  },
  {
   "cell_type": "code",
   "execution_count": 21,
   "metadata": {},
   "outputs": [
    {
     "data": {
      "text/plain": [
       "'Techo de servicio: 20988.799999998708 ft'"
      ]
     },
     "execution_count": 21,
     "metadata": {},
     "output_type": "execute_result"
    }
   ],
   "source": [
    "techo_f = Forward(Voo, 20988.7, Heli_Ab)\n",
    "\n",
    "techo_f.calc_techo(20900)"
   ]
  },
  {
   "cell_type": "markdown",
   "metadata": {},
   "source": [
    "#### Revisión"
   ]
  },
  {
   "cell_type": "code",
   "execution_count": 22,
   "metadata": {},
   "outputs": [
    {
     "data": {
      "text/plain": [
       "154.3863354338035"
      ]
     },
     "execution_count": 22,
     "metadata": {},
     "output_type": "execute_result"
    }
   ],
   "source": [
    "techo_f.dens_ratio*300"
   ]
  },
  {
   "cell_type": "code",
   "execution_count": 23,
   "metadata": {},
   "outputs": [
    {
     "data": {
      "text/plain": [
       "154.395"
      ]
     },
     "execution_count": 23,
     "metadata": {},
     "output_type": "execute_result"
    }
   ],
   "source": [
    "min(techo_f.Ptotal)"
   ]
  },
  {
   "cell_type": "code",
   "execution_count": 25,
   "metadata": {
    "collapsed": true
   },
   "outputs": [
    {
     "name": "stdout",
     "output_type": "stream",
     "text": [
      "    Voo  alpha  T  Vi  P Total  kPi  Po  Pp  Ptr\n",
      "0     0      0  0   0        0    0   0   0    0\n",
      "1     1      0  0   0        0    0   0   0    0\n",
      "2     2      0  0   0        0    0   0   0    0\n",
      "3     3      0  0   0        0    0   0   0    0\n",
      "4     4      0  0   0        0    0   0   0    0\n",
      "5     5      0  0   0        0    0   0   0    0\n",
      "6     6      0  0   0        0    0   0   0    0\n",
      "7     7      0  0   0        0    0   0   0    0\n",
      "8     8      0  0   0        0    0   0   0    0\n",
      "9     9      0  0   0        0    0   0   0    0\n",
      "10   10      0  0   0        0    0   0   0    0\n",
      "11   11      0  0   0        0    0   0   0    0\n",
      "12   12      0  0   0        0    0   0   0    0\n",
      "13   13      0  0   0        0    0   0   0    0\n",
      "14   14      0  0   0        0    0   0   0    0\n",
      "15   15      0  0   0        0    0   0   0    0\n",
      "16   16      0  0   0        0    0   0   0    0\n",
      "17   17      0  0   0        0    0   0   0    0\n",
      "18   18      0  0   0        0    0   0   0    0\n",
      "19   19      0  0   0        0    0   0   0    0\n",
      "20   20      0  0   0        0    0   0   0    0\n",
      "21   21      0  0   0        0    0   0   0    0\n",
      "22   22      0  0   0        0    0   0   0    0\n",
      "23   23      0  0   0        0    0   0   0    0\n",
      "24   24      0  0   0        0    0   0   0    0\n",
      "25   25      0  0   0        0    0   0   0    0\n",
      "26   26      0  0   0        0    0   0   0    0\n",
      "27   27      0  0   0        0    0   0   0    0\n",
      "28   28      0  0   0        0    0   0   0    0\n",
      "29   29      0  0   0        0    0   0   0    0\n",
      "30   30      0  0   0        0    0   0   0    0\n",
      "31   31      0  0   0        0    0   0   0    0\n",
      "32   32      0  0   0        0    0   0   0    0\n",
      "33   33      0  0   0        0    0   0   0    0\n",
      "34   34      0  0   0        0    0   0   0    0\n",
      "35   35      0  0   0        0    0   0   0    0\n",
      "36   36      0  0   0        0    0   0   0    0\n",
      "37   37      0  0   0        0    0   0   0    0\n",
      "38   38      0  0   0        0    0   0   0    0\n",
      "39   39      0  0   0        0    0   0   0    0\n",
      "40   40      0  0   0        0    0   0   0    0\n",
      "41   41      0  0   0        0    0   0   0    0\n",
      "42   42      0  0   0        0    0   0   0    0\n",
      "43   43      0  0   0        0    0   0   0    0\n",
      "44   44      0  0   0        0    0   0   0    0\n",
      "45   45      0  0   0        0    0   0   0    0\n",
      "46   46      0  0   0        0    0   0   0    0\n",
      "47   47      0  0   0        0    0   0   0    0\n",
      "48   48      0  0   0        0    0   0   0    0\n",
      "49   49      0  0   0        0    0   0   0    0\n",
      "50   50      0  0   0        0    0   0   0    0\n",
      "51   51      0  0   0        0    0   0   0    0\n",
      "52   52      0  0   0        0    0   0   0    0\n",
      "53   53      0  0   0        0    0   0   0    0\n",
      "54   54      0  0   0        0    0   0   0    0\n",
      "55   55      0  0   0        0    0   0   0    0\n",
      "56   56      0  0   0        0    0   0   0    0\n",
      "57   57      0  0   0        0    0   0   0    0\n",
      "58   58      0  0   0        0    0   0   0    0\n",
      "59   59      0  0   0        0    0   0   0    0\n",
      "60   60      0  0   0        0    0   0   0    0\n"
     ]
    }
   ],
   "source": [
    "with pd.option_context('display.max_rows', None, 'display.max_columns', None):  # more options can be specified also\n",
    "    print(techo_f.DF)"
   ]
  },
  {
   "cell_type": "markdown",
   "metadata": {},
   "source": [
    "### Techo de servicio en Hover"
   ]
  },
  {
   "cell_type": "code",
   "execution_count": 27,
   "metadata": {},
   "outputs": [
    {
     "data": {
      "text/plain": [
       "'Techo de servicio en Hover: 5356.500000001297 ft'"
      ]
     },
     "execution_count": 27,
     "metadata": {},
     "output_type": "execute_result"
    }
   ],
   "source": [
    "techo_h = Forward(Voo, 5356.5, Heli_Ab)\n",
    "\n",
    "techo_h.calc_techo_hover(5000)"
   ]
  },
  {
   "cell_type": "markdown",
   "metadata": {},
   "source": [
    "###### Revisión"
   ]
  },
  {
   "cell_type": "code",
   "execution_count": 28,
   "metadata": {},
   "outputs": [
    {
     "data": {
      "text/plain": [
       "255.66"
      ]
     },
     "execution_count": 28,
     "metadata": {},
     "output_type": "execute_result"
    }
   ],
   "source": [
    "techo_h.calc_P()\n",
    "techo_h.Ptotal[0]"
   ]
  },
  {
   "cell_type": "code",
   "execution_count": 29,
   "metadata": {},
   "outputs": [
    {
     "data": {
      "text/plain": [
       "255.65968637064736"
      ]
     },
     "execution_count": 29,
     "metadata": {},
     "output_type": "execute_result"
    }
   ],
   "source": [
    "techo_h.dens_ratio * 300"
   ]
  },
  {
   "cell_type": "markdown",
   "metadata": {},
   "source": [
    "## Exportar datos a excel"
   ]
  },
  {
   "cell_type": "code",
   "execution_count": null,
   "metadata": {},
   "outputs": [],
   "source": [
    "data = pd.DataFrame({'Voo':Vav.Voo,'alpha':Vav.alpha,'T':Vav.thrust,'Vi':Vav.vi,'P Total':Vav.Ptotal,'kPi':Vav.kPi,'Po':Vav.Po,'Pp':Vav.Pp,'Ptr':Vav.Ptr})"
   ]
  },
  {
   "cell_type": "code",
   "execution_count": null,
   "metadata": {},
   "outputs": [],
   "source": [
    "excel_w = pd.ExcelWriter('Potencias.xlsx', engine='xlsxwriter') #aquí se especifica el excel writer\n",
    "\n",
    "data.to_excel(excel_w, sheet_name='Sheet1')                       #debemos suministrar el excel writer y nombre de la hoja\n",
    "\n",
    "excel_w.save()"
   ]
  }
 ],
 "metadata": {
  "kernelspec": {
   "display_name": "Python 3",
   "language": "python",
   "name": "python3"
  },
  "language_info": {
   "codemirror_mode": {
    "name": "ipython",
    "version": 3
   },
   "file_extension": ".py",
   "mimetype": "text/x-python",
   "name": "python",
   "nbconvert_exporter": "python",
   "pygments_lexer": "ipython3",
   "version": "3.7.4"
  }
 },
 "nbformat": 4,
 "nbformat_minor": 2
}
