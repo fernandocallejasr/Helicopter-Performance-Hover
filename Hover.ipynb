{
 "cells": [
  {
   "cell_type": "markdown",
   "metadata": {},
   "source": [
    "## Gráficas MTOW vs AP"
   ]
  },
  {
   "cell_type": "code",
   "execution_count": 1,
   "metadata": {},
   "outputs": [],
   "source": [
    "import numpy as np\n",
    "from matplotlib import pyplot as plt\n",
    "import pandas as pd\n",
    "import seaborn as sns\n",
    "sns.set()"
   ]
  },
  {
   "cell_type": "markdown",
   "metadata": {},
   "source": [
    "Obtenemos FM del rotor principal, aquí utilizamos densidad estándar"
   ]
  },
  {
   "cell_type": "code",
   "execution_count": 2,
   "metadata": {
    "scrolled": true
   },
   "outputs": [],
   "source": [
    "HELI = {'k': 1.15,\n",
    "        'Cdo': 0.01,\n",
    "        'Matip': 0.62,\n",
    "        'm': 1451,\n",
    "        'D': 5.08*2,\n",
    "        'solidez': 0.0414,\n",
    "        'P_d_ssl': 300}"
   ]
  },
  {
   "cell_type": "markdown",
   "metadata": {},
   "source": [
    "### Obtener MTOW para diferentes temperaturas y altitud presión\n",
    "\n",
    "Con esta potencia podemos obtener los distintos MTOW "
   ]
  },
  {
   "cell_type": "code",
   "execution_count": 60,
   "metadata": {
    "scrolled": true
   },
   "outputs": [],
   "source": [
    "class Hover():\n",
    "    \"\"\"Clase que permite calcular la potencia requerida por un helicóptero en Hover\n",
    "       Calcula la máxima velocidad de ascenso posible \n",
    "       Calcula MTOW a distintas altitud presión\n",
    "       Inputs:\n",
    "           Heli_data (diccionario): Diccionario que contiene los datos del helicoptero\n",
    "           hdens: float. Valor de altitud densidad estándar\n",
    "    \"\"\"\n",
    "    \n",
    "    def __init__(self, Heli_Data, hdens):\n",
    "        self.Heli_data =    Heli_Data\n",
    "        self.Pd        =    Heli_Data['Pd']        # hp\n",
    "        self.k         =    Heli_Data['k']\n",
    "        self.Cdo       =    Heli_Data['Cdo']\n",
    "        self.Ma_tip    =    Heli_Data['Ma_tip']    # m/s\n",
    "        self.m         =    Heli_Data['m']         # kg\n",
    "        self.D         =    Heli_Data['D']         # m\n",
    "        self.solidez   =    Heli_Data['solidez']\n",
    "        self.FM        =    Heli_Data['FM']\n",
    "        \n",
    "        self.A         = (1/4)*np.pi*self.D**2\n",
    "        self.Vtip      = self.Ma_tip*340           # [m/s]\n",
    "        self.omega     = self.Vtip/(self.D/2)      # [rad/s]\n",
    "        self.GTOW      = 9.81*self.m               # [N]\n",
    "        Dens_ssl       = 1.225                     # [kg/m3]\n",
    "        \n",
    "        self.hdens      = hdens\n",
    "        self.dens_hd    = 1.225*(1-self.hdens*(0.00357/518.4))**(1/0.235)\n",
    "        self.dens_ratio = self.dens_hd/1.225\n",
    "        \n",
    "        # Obtenemos FM a nivel del mar con las potencias para hover a nivel del mar\n",
    "        if self.FM == 0:\n",
    "            self.Pi_ssl = (self.GTOW**1.5)/(2*1.225*self.A)**0.5\n",
    "            self.Po_ssl = 1.225*self.A*((self.omega*(self.D/2))**3) * (self.solidez*self.Cdo/8)\n",
    "            self.FM = self.Pi_ssl/(self.k*self.Pi_ssl + self.Po_ssl)\n",
    "        else:\n",
    "            pass\n",
    "        \n",
    "        self.alt_presion  = [x for x in range(0, 14100, 500)]  #hp de 0 a 14000 pies\n",
    "        self.list_dens_hp = [h for h in self.alt_presion]   #lista densidad a distinta altitud presión a una temperatura dada\n",
    "        self.list_mtow    = [h for h in self.alt_presion]   #lista MTOW a distinta altitud presión a la temperatura dada\n",
    "        self.list_GTOW    = []\n",
    "        self.list_Pexceso = []\n",
    "        \n",
    "        #Obtener Potencia nominal, aquí utilizamos con GTOW ssl y densidad de UPIIG en ese momento, dens = 1.046 kg/m^3\n",
    "        #Este valor es usado para calcular los MTOW a diferentes hp y T\n",
    "        self.P = (self.GTOW**1.5)/(self.FM*(2*1.046*self.A)**0.5)     #[Watts]\n",
    "        \n",
    "        self.list_P = []\n",
    "        \n",
    "        self.P_FM = 0\n",
    "        self.P_k  = 0\n",
    "        \n",
    "    def densidad_hp(self, temperatura):\n",
    "        '''\n",
    "        Método que obtiene una lista de densidades variando la altitud presión, a una temperatura establecida\n",
    "        Inputs:\n",
    "                temperatura: En °C\n",
    "        '''\n",
    "        self.temperatura = temperatura\n",
    "        \n",
    "        i = 0\n",
    "        for h_presion in self.alt_presion:\n",
    "            dens = 1.225*(288.16/(temperatura + 273.16)) * (1-(0.001981 * h_presion/288.16))**5.256\n",
    "            self.list_dens_hp[i] = round(dens,3)\n",
    "            i += 1\n",
    "\n",
    "    def mtow(self, temperatura):\n",
    "        '''\n",
    "        Método que obtiene una lista de MTOW a la temperatura dada, variando altitud presión y densidad\n",
    "        Inputs:\n",
    "                temperatura: float. Temperatura en °C\n",
    "        '''\n",
    "        self.densidad_hp(temperatura)\n",
    "        self.temperatura = temperatura\n",
    "        \n",
    "        i = 0\n",
    "        for dens_hp in self.list_dens_hp:\n",
    "            w = (self.P*self.FM*(2*dens_hp*self.A)**0.5)**(0.66)\n",
    "            self.list_mtow[i] = round(w,3)\n",
    "            i += 1\n",
    "            \n",
    "    def potencia_hover(self):\n",
    "        \"\"\"Método que calcula la potencia en Hover (hp) a distintos GTOW (lb) para la hdens inicializada\n",
    "           Revisar datos de list_GTOW (lb) & hdens (ft)\n",
    "           Puede cambiarse a kg y Newtons modificando lo que multiplica a W & quitando el / 745.7\n",
    "           Este método usa la fórmula que involucra el coeficiente de pérdidas inducidas\n",
    "        \"\"\"\n",
    "        self.list_GTOW = [x for x in range(16000, 21500, 500)] # [lb]\n",
    "        self.list_P = [0 for x in self.list_GTOW]\n",
    "        \n",
    "        i = 0\n",
    "        for W in self.list_GTOW:\n",
    "            P = (self.k*(W*0.453592*9.81)**1.5) / (2*self.dens_hd*self.A)**0.5 + self.dens_hd*self.A*(self.solidez*self.Cdo/8)*((self.Vtip)**3)\n",
    "            self.list_P[i] = P/745.7\n",
    "            i += 1\n",
    "            \n",
    "    def calc_potencia_exceso(self):\n",
    "        \"\"\"Método que calcula la potencia excedente (hp) a distintos GTOW\n",
    "        \"\"\"\n",
    "        self.potencia_hover()\n",
    "        self.list_Pexceso = [0 for x in self.list_P]\n",
    "        \n",
    "        i = 0\n",
    "        for P_h in self.list_P:\n",
    "            Pexc = self.Pd*(self.dens_hd/1.225) - P_h\n",
    "            self.list_Pexceso[i] = Pexc\n",
    "            i += 1\n",
    "                    \n",
    "            \n",
    "    def calc_potencia_FM(self):\n",
    "        \"\"\"Método que calcula la potencia requerida para el GTOW inicializado y a una hdens inicializada\n",
    "           usando el método que incluye FM\n",
    "        \"\"\"\n",
    "        self.__init__(self.Heli_data, self.hdens)\n",
    "        self.P_FM = (1/745.7)*(1/self.FM)*((self.GTOW**1.5)/(2*self.dens_hd*self.A)**0.5)\n",
    "        \n",
    "    def calc_potencia_k(self):\n",
    "        \"\"\"Método que calcula la potencia requerida para el GTOW inicializado y a una hdens inicializada\n",
    "           usando el método que incluye el fáctor de pérdidas inducidas\n",
    "        \"\"\"\n",
    "        self.__init__(self.Heli_data, self.hdens)\n",
    "        self.P_k = (self.k*self.GTOW**1.5)/(2*self.dens_hd*self.A)**0.5 + self.dens_hd*self.A*(self.Vtip**3)*(self.solidez*self.Cdo/8)\n",
    "        self.P_k = self.P_k/745.7\n",
    "        \n",
    "    def calc_techo_FM(self, alt_inicial):\n",
    "        \"\"\"Método que calcula el techo de servicio utilizando P_FM y variando la hdens inicializada\n",
    "        \"\"\"\n",
    "        Error = 1000\n",
    "        \n",
    "        alt_dens   = alt_inicial\n",
    "        self.hdens = alt_dens\n",
    "        \n",
    "        while Error > 0.01:\n",
    "            self.hdens = alt_dens\n",
    "            self.calc_potencia_FM()\n",
    "            Error = abs(self.dens_ratio * self.Pd - self.P_FM)\n",
    "            alt_dens += 0.1\n",
    "        return f'Techo de servicio: {alt_dens} ft'\n",
    "    \n",
    "    def calc_techo_k(self, alt_inicial):\n",
    "        \"\"\"Método que calcula el techo de servicio utilizando P_k y variando la hdens inicializada\n",
    "        \"\"\"\n",
    "        Error = 1000\n",
    "        \n",
    "        alt_dens   = alt_inicial\n",
    "        self.hdens = alt_dens\n",
    "        \n",
    "        while Error > 0.01:\n",
    "            self.hdens = alt_dens\n",
    "            self.calc_potencia_k()\n",
    "            Error = abs(self.dens_ratio * self.Pd - self.P_k)\n",
    "            alt_dens += 0.1\n",
    "        return f'Techo de servicio: {alt_dens} ft'\n",
    "            \n",
    "    def graf_mtow(self, temperatura):\n",
    "        '''\n",
    "        Método que calcula mtow y grafica MTOW vs Altitud Presión, obtiene los mtow\n",
    "        de self.mtow a una temperatura dada\n",
    "        Inputs:\n",
    "                temperatura: float. Temperatura en °C\n",
    "        '''\n",
    "        self.mtow(temperatura)\n",
    "        \n",
    "        plt.plot(self.list_mtow, self.alt_presion, label = '{}°C'.format(self.temperatura))\n",
    "        plt.xlabel('MTOW [kg]')\n",
    "        plt.ylabel('ALTITUD PRESIÓN [ft]')\n",
    "        plt.title('MTOW vs AP')\n",
    "        plt.legend()\n",
    "        plt.tight_layout()\n",
    "        plt.grid(True)\n",
    "        \n",
    "    def graf_PvsGTOW(self):\n",
    "        '''Método que calcula la potencia en hover y grafica Potencia [hp] vs GTOW [lb]\n",
    "        '''\n",
    "        self.potencia_hover()\n",
    "        \n",
    "        plt.plot(self.list_GTOW, self.list_P, label = \"{}'\".format(self.hdens))\n",
    "        plt.xlabel('GTOW [lb]')\n",
    "        plt.ylabel('Potencia Requerida [hp]')\n",
    "        plt.title('P vs GTOW')\n",
    "        plt.legend()\n",
    "        plt.tight_layout()\n",
    "        plt.grid(True)\n",
    "        \n",
    "    def graf_P_exceso(self):\n",
    "        '''Método que calcula Potencia de exceso y grafica Potencia Exceso [hp] vs GTOW [lb]\n",
    "        '''\n",
    "        self.calc_potencia_exceso()\n",
    "        \n",
    "        plt.plot(self.list_GTOW, self.list_Pexceso, label = \"{}'\".format(self.hdens))\n",
    "        plt.xlabel('GTOW [lb]')\n",
    "        plt.ylabel('Potencia en Exceso [hp]')\n",
    "        plt.title('P Excedente vs GTOW')\n",
    "        plt.legend()\n",
    "        plt.tight_layout()\n",
    "        plt.grid(True)\n",
    "        \n",
    "    def __str__(self):\n",
    "        return 'Temperatura: {}'.format(self.temperatura)\n",
    "        "
   ]
  },
  {
   "cell_type": "markdown",
   "metadata": {},
   "source": [
    "### AP vs MTOW"
   ]
  },
  {
   "cell_type": "markdown",
   "metadata": {},
   "source": [
    "Ejemplo gráfica MTOW a distintas altitud presión y temperatura"
   ]
  },
  {
   "cell_type": "code",
   "execution_count": 6,
   "metadata": {},
   "outputs": [],
   "source": [
    "Heli1_data = {'k': 1.15, 'Cdo': 0.01, 'Ma_tip': 0.62, 'm': 1451, 'D': 10.16, 'solidez': 0.0414, 'Pd': 2800, 'FM': 0}"
   ]
  },
  {
   "cell_type": "code",
   "execution_count": 14,
   "metadata": {},
   "outputs": [],
   "source": [
    "tdata_m20 = Hover(Heli1_data, 0)\n",
    "tdata_m10 = Hover(Heli1_data, 0)\n",
    "tdata_0 =   Hover(Heli1_data, 0)\n",
    "tdata_10 =  Hover(Heli1_data, 0)\n",
    "tdata_20 =  Hover(Heli1_data, 0)"
   ]
  },
  {
   "cell_type": "code",
   "execution_count": 15,
   "metadata": {},
   "outputs": [
    {
     "data": {
      "image/png": "[encoded data removed]",
      "text/plain": [
       "<Figure size 432x288 with 1 Axes>"
      ]
     },
     "metadata": {
      "needs_background": "light"
     },
     "output_type": "display_data"
    }
   ],
   "source": [
    "tdata_m20.graf_mtow(-20)\n",
    "tdata_m10.graf_mtow(-10)\n",
    "tdata_0.graf_mtow(0)\n",
    "tdata_10.graf_mtow(10)\n",
    "tdata_20.graf_mtow(20)"
   ]
  },
  {
   "cell_type": "markdown",
   "metadata": {},
   "source": [
    "### Potencia vs GTOW"
   ]
  },
  {
   "cell_type": "markdown",
   "metadata": {},
   "source": [
    "Ejemplo gráfica Potencia Requerida a distintos GTOW"
   ]
  },
  {
   "cell_type": "code",
   "execution_count": 20,
   "metadata": {},
   "outputs": [],
   "source": [
    "Ex_Heli = {'k': 1.15, 'Cdo': 0.008, 'Ma_tip': 0.65, 'm': 1451, 'D': 8.23*2, 'solidez': 0.082, 'Pd': 2800, 'FM': 0}"
   ]
  },
  {
   "cell_type": "code",
   "execution_count": 24,
   "metadata": {},
   "outputs": [],
   "source": [
    "Heli_Ex_0 = Hover(Ex_Heli, 0)\n",
    "Heli_Ex_3000 = Hover(Ex_Heli, 3000)\n",
    "Heli_Ex_6000 = Hover(Ex_Heli, 6000)\n",
    "Heli_Ex_9000 = Hover(Ex_Heli, 9000)"
   ]
  },
  {
   "cell_type": "code",
   "execution_count": 25,
   "metadata": {},
   "outputs": [
    {
     "data": {
      "image/png": "[encoded data removed]",
      "text/plain": [
       "<Figure size 432x288 with 1 Axes>"
      ]
     },
     "metadata": {
      "needs_background": "light"
     },
     "output_type": "display_data"
    }
   ],
   "source": [
    "Heli_Ex_0.graf_PvsGTOW()\n",
    "Heli_Ex_3000.graf_PvsGTOW()\n",
    "Heli_Ex_6000.graf_PvsGTOW()\n",
    "Heli_Ex_9000.graf_PvsGTOW()"
   ]
  },
  {
   "cell_type": "markdown",
   "metadata": {},
   "source": [
    "## Comparación entre Potencia Requerida a hd = 0 ft para ambos métodos (FM & k)"
   ]
  },
  {
   "cell_type": "code",
   "execution_count": 51,
   "metadata": {
    "scrolled": true
   },
   "outputs": [],
   "source": [
    "Heli_Ex_0 = Hover(Heli1_data, 0)"
   ]
  },
  {
   "cell_type": "code",
   "execution_count": 53,
   "metadata": {
    "scrolled": true
   },
   "outputs": [
    {
     "data": {
      "text/plain": [
       "250.39151991055033"
      ]
     },
     "execution_count": 53,
     "metadata": {},
     "output_type": "execute_result"
    }
   ],
   "source": [
    "Heli_Ex_0.calc_potencia_k()\n",
    "Heli_Ex_0.P_k"
   ]
  },
  {
   "cell_type": "code",
   "execution_count": 54,
   "metadata": {},
   "outputs": [
    {
     "data": {
      "text/plain": [
       "250.3915199105503"
      ]
     },
     "execution_count": 54,
     "metadata": {},
     "output_type": "execute_result"
    }
   ],
   "source": [
    "Heli_Ex_0.calc_potencia_FM()\n",
    "Heli_Ex_0.P_FM"
   ]
  },
  {
   "cell_type": "markdown",
   "metadata": {},
   "source": [
    "## Potencia excedente"
   ]
  },
  {
   "cell_type": "code",
   "execution_count": 57,
   "metadata": {},
   "outputs": [],
   "source": [
    "Ex_Heli = {'k': 1.15, 'Cdo': 0.008, 'Ma_tip': 0.65, 'm': 1451, 'D': 8.23*2, 'solidez': 0.082, 'Pd': 2800, 'FM': 0}"
   ]
  },
  {
   "cell_type": "code",
   "execution_count": 61,
   "metadata": {},
   "outputs": [],
   "source": [
    "Pex_hd0 = Hover(Ex_Heli, 0)\n",
    "Pex_hd3000 = Hover(Ex_Heli, 3000)\n",
    "Pex_hd6000 = Hover(Ex_Heli, 6000)\n",
    "Pex_hd9000 = Hover(Ex_Heli, 9000)"
   ]
  },
  {
   "cell_type": "code",
   "execution_count": 63,
   "metadata": {},
   "outputs": [
    {
     "data": {
      "image/png": "[encoded data removed]",
      "text/plain": [
       "<Figure size 432x288 with 1 Axes>"
      ]
     },
     "metadata": {
      "needs_background": "light"
     },
     "output_type": "display_data"
    }
   ],
   "source": [
    "Pex_hd0.graf_P_exceso()\n",
    "Pex_hd3000.graf_P_exceso()\n",
    "Pex_hd6000.graf_P_exceso()\n",
    "Pex_hd9000.graf_P_exceso()"
   ]
  },
  {
   "cell_type": "markdown",
   "metadata": {},
   "source": [
    "## Techo fórmula FM"
   ]
  },
  {
   "cell_type": "code",
   "execution_count": 65,
   "metadata": {},
   "outputs": [],
   "source": [
    "Heli_techo = {'k': 1.15, 'Cdo': 0.01, 'Ma_tip': 0.62, 'm': 1451, 'D': 10.16, 'solidez': 0.0414, 'Pd': 300, 'FM': 0}"
   ]
  },
  {
   "cell_type": "markdown",
   "metadata": {},
   "source": [
    "Hacemos unas cuantas iteraciones para obtener una altitud a partir de la cual comenzar el método calc_FM"
   ]
  },
  {
   "cell_type": "code",
   "execution_count": 72,
   "metadata": {},
   "outputs": [
    {
     "data": {
      "text/plain": [
       "261.76392526602376"
      ]
     },
     "execution_count": 72,
     "metadata": {},
     "output_type": "execute_result"
    }
   ],
   "source": [
    "techo = Hover(Heli_techo, 3000)\n",
    "\n",
    "techo.calc_potencia_FM()\n",
    "techo.P_FM"
   ]
  },
  {
   "cell_type": "code",
   "execution_count": 73,
   "metadata": {},
   "outputs": [
    {
     "data": {
      "text/plain": [
       "274.49908337138265"
      ]
     },
     "execution_count": 73,
     "metadata": {},
     "output_type": "execute_result"
    }
   ],
   "source": [
    "techo.dens_hd/1.225*techo.Pd"
   ]
  },
  {
   "cell_type": "code",
   "execution_count": 62,
   "metadata": {},
   "outputs": [
    {
     "data": {
      "text/plain": [
       "'Techo de servicio: 4053.7999999990416 ft'"
      ]
     },
     "execution_count": 62,
     "metadata": {},
     "output_type": "execute_result"
    }
   ],
   "source": [
    "techo.calc_techo_FM(3000)"
   ]
  },
  {
   "cell_type": "markdown",
   "metadata": {},
   "source": [
    "## Techo fórmula k"
   ]
  },
  {
   "cell_type": "markdown",
   "metadata": {},
   "source": [
    "Hacemos unas cuantas iteraciones para obtener una altitud a partir de la cual comenzar el método calc_FM"
   ]
  },
  {
   "cell_type": "code",
   "execution_count": 77,
   "metadata": {},
   "outputs": [
    {
     "data": {
      "text/plain": [
       "253.34375706895847"
      ]
     },
     "execution_count": 77,
     "metadata": {},
     "output_type": "execute_result"
    }
   ],
   "source": [
    "techo = Hover(Heli_techo, 3000)\n",
    "\n",
    "techo.calc_potencia_k()\n",
    "techo.P_k"
   ]
  },
  {
   "cell_type": "code",
   "execution_count": 78,
   "metadata": {},
   "outputs": [
    {
     "data": {
      "text/plain": [
       "274.49908337138265"
      ]
     },
     "execution_count": 78,
     "metadata": {},
     "output_type": "execute_result"
    }
   ],
   "source": [
    "techo.dens_hd/1.225*techo.Pd"
   ]
  },
  {
   "cell_type": "code",
   "execution_count": 79,
   "metadata": {},
   "outputs": [
    {
     "data": {
      "text/plain": [
       "'Techo de servicio: 5283.400000003323 ft'"
      ]
     },
     "execution_count": 79,
     "metadata": {},
     "output_type": "execute_result"
    }
   ],
   "source": [
    "techo.calc_techo_k(3000)"
   ]
  }
 ],
 "metadata": {
  "kernelspec": {
   "display_name": "Python 3",
   "language": "python",
   "name": "python3"
  },
  "language_info": {
   "codemirror_mode": {
    "name": "ipython",
    "version": 3
   },
   "file_extension": ".py",
   "mimetype": "text/x-python",
   "name": "python",
   "nbconvert_exporter": "python",
   "pygments_lexer": "ipython3",
   "version": "3.7.4"
  }
 },
 "nbformat": 4,
 "nbformat_minor": 2
}
